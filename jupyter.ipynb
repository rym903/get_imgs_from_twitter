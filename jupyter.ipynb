{
 "cells": [
  {
   "cell_type": "code",
   "execution_count": 3,
   "metadata": {},
   "outputs": [],
   "source": [
    "import pandas as pd"
   ]
  },
  {
   "cell_type": "code",
   "execution_count": 15,
   "metadata": {},
   "outputs": [],
   "source": [
    "dt = pd.read_csv(\"tweets_20170805.csv\")"
   ]
  },
  {
   "cell_type": "code",
   "execution_count": 17,
   "metadata": {},
   "outputs": [
    {
     "data": {
      "text/html": [
       "<div>\n",
       "<style scoped>\n",
       "    .dataframe tbody tr th:only-of-type {\n",
       "        vertical-align: middle;\n",
       "    }\n",
       "\n",
       "    .dataframe tbody tr th {\n",
       "        vertical-align: top;\n",
       "    }\n",
       "\n",
       "    .dataframe thead th {\n",
       "        text-align: right;\n",
       "    }\n",
       "</style>\n",
       "<table border=\"1\" class=\"dataframe\">\n",
       "  <thead>\n",
       "    <tr style=\"text-align: right;\">\n",
       "      <th></th>\n",
       "      <th>id</th>\n",
       "      <th>text</th>\n",
       "      <th>full_text</th>\n",
       "    </tr>\n",
       "  </thead>\n",
       "  <tbody>\n",
       "    <tr>\n",
       "      <th>0</th>\n",
       "      <td>1077094543441289216</td>\n",
       "      <td>RT @hnyk_kon: サンタ武蔵ちゃん🎄　#FGO #fatego https://t...</td>\n",
       "      <td>RT @hnyk_kon: サンタ武蔵ちゃん🎄　#FGO #fatego https://t...</td>\n",
       "    </tr>\n",
       "    <tr>\n",
       "      <th>1</th>\n",
       "      <td>1077094434150309888</td>\n",
       "      <td>RT @nitutituti: 🎄 https://t.co/V3XHiwWle2</td>\n",
       "      <td>RT @nitutituti: 🎄 https://t.co/V3XHiwWle2</td>\n",
       "    </tr>\n",
       "    <tr>\n",
       "      <th>2</th>\n",
       "      <td>1077092570570739718</td>\n",
       "      <td>RT @yayaa_00: Merry Christmas~(　･ิω･ิ)bb https...</td>\n",
       "      <td>RT @yayaa_00: Merry Christmas~(　･ิω･ิ)bb https...</td>\n",
       "    </tr>\n",
       "    <tr>\n",
       "      <th>3</th>\n",
       "      <td>1077092532184506368</td>\n",
       "      <td>RT @ZEUS1858322: 一応脱稿は致せました。一応こちら表紙の絵でしゅ。 http...</td>\n",
       "      <td>RT @ZEUS1858322: 一応脱稿は致せました。\\n一応こちら表紙の絵でしゅ。 ht...</td>\n",
       "    </tr>\n",
       "    <tr>\n",
       "      <th>4</th>\n",
       "      <td>1077092428127948800</td>\n",
       "      <td>RT @izumiyuhina: 【受注】リイナちゃん＆ゆやちゃんメイドバージョン抱き枕カバ...</td>\n",
       "      <td>RT @izumiyuhina: 【受注】リイナちゃん＆ゆやちゃんメイドバージョン抱き枕カバ...</td>\n",
       "    </tr>\n",
       "    <tr>\n",
       "      <th>5</th>\n",
       "      <td>1076901289148133376</td>\n",
       "      <td>RT @CuteGirl_2D: RYO https://t.co/IzRtGt0D8c</td>\n",
       "      <td>RT @CuteGirl_2D: RYO https://t.co/IzRtGt0D8c</td>\n",
       "    </tr>\n",
       "    <tr>\n",
       "      <th>6</th>\n",
       "      <td>1076871756386877440</td>\n",
       "      <td>RT @_Beverb: クリスマスの夜 https://t.co/g9TxAmqewW</td>\n",
       "      <td>RT @_Beverb: クリスマスの夜 https://t.co/g9TxAmqewW</td>\n",
       "    </tr>\n",
       "    <tr>\n",
       "      <th>7</th>\n",
       "      <td>1076871588920737792</td>\n",
       "      <td>RT @mvv_ks: 足でも気持ちいいでしょう？ https://t.co/jZJ4JsxFT8</td>\n",
       "      <td>RT @mvv_ks: 足でも気持ちいいでしょう？ https://t.co/jZJ4JsxFT8</td>\n",
       "    </tr>\n",
       "    <tr>\n",
       "      <th>8</th>\n",
       "      <td>1076844340838686721</td>\n",
       "      <td>RT @ryohka_jp: マシュマロぱい💗 https://t.co/G7Jnpvdqqd</td>\n",
       "      <td>RT @ryohka_jp: マシュマロぱい💗 https://t.co/G7Jnpvdqqd</td>\n",
       "    </tr>\n",
       "    <tr>\n",
       "      <th>9</th>\n",
       "      <td>1076841718509498368</td>\n",
       "      <td>RT @mmiuki: こたつでスキンシップ  #脚部 https://t.co/AVGb0...</td>\n",
       "      <td>RT @mmiuki: こたつでスキンシップ  #脚部 https://t.co/AVGb0...</td>\n",
       "    </tr>\n",
       "  </tbody>\n",
       "</table>\n",
       "</div>"
      ],
      "text/plain": [
       "                    id                                               text  \\\n",
       "0  1077094543441289216  RT @hnyk_kon: サンタ武蔵ちゃん🎄　#FGO #fatego https://t...   \n",
       "1  1077094434150309888          RT @nitutituti: 🎄 https://t.co/V3XHiwWle2   \n",
       "2  1077092570570739718  RT @yayaa_00: Merry Christmas~(　･ิω･ิ)bb https...   \n",
       "3  1077092532184506368  RT @ZEUS1858322: 一応脱稿は致せました。一応こちら表紙の絵でしゅ。 http...   \n",
       "4  1077092428127948800  RT @izumiyuhina: 【受注】リイナちゃん＆ゆやちゃんメイドバージョン抱き枕カバ...   \n",
       "5  1076901289148133376       RT @CuteGirl_2D: RYO https://t.co/IzRtGt0D8c   \n",
       "6  1076871756386877440       RT @_Beverb: クリスマスの夜 https://t.co/g9TxAmqewW   \n",
       "7  1076871588920737792  RT @mvv_ks: 足でも気持ちいいでしょう？ https://t.co/jZJ4JsxFT8   \n",
       "8  1076844340838686721    RT @ryohka_jp: マシュマロぱい💗 https://t.co/G7Jnpvdqqd   \n",
       "9  1076841718509498368  RT @mmiuki: こたつでスキンシップ  #脚部 https://t.co/AVGb0...   \n",
       "\n",
       "                                           full_text  \n",
       "0  RT @hnyk_kon: サンタ武蔵ちゃん🎄　#FGO #fatego https://t...  \n",
       "1          RT @nitutituti: 🎄 https://t.co/V3XHiwWle2  \n",
       "2  RT @yayaa_00: Merry Christmas~(　･ิω･ิ)bb https...  \n",
       "3  RT @ZEUS1858322: 一応脱稿は致せました。\\n一応こちら表紙の絵でしゅ。 ht...  \n",
       "4  RT @izumiyuhina: 【受注】リイナちゃん＆ゆやちゃんメイドバージョン抱き枕カバ...  \n",
       "5       RT @CuteGirl_2D: RYO https://t.co/IzRtGt0D8c  \n",
       "6       RT @_Beverb: クリスマスの夜 https://t.co/g9TxAmqewW  \n",
       "7  RT @mvv_ks: 足でも気持ちいいでしょう？ https://t.co/jZJ4JsxFT8  \n",
       "8    RT @ryohka_jp: マシュマロぱい💗 https://t.co/G7Jnpvdqqd  \n",
       "9  RT @mmiuki: こたつでスキンシップ  #脚部 https://t.co/AVGb0...  "
      ]
     },
     "execution_count": 17,
     "metadata": {},
     "output_type": "execute_result"
    }
   ],
   "source": [
    "dt[[\"id\", \"text\",\"full_text\"]]"
   ]
  },
  {
   "cell_type": "code",
   "execution_count": null,
   "metadata": {},
   "outputs": [],
   "source": []
  }
 ],
 "metadata": {
  "kernelspec": {
   "display_name": "Python 3",
   "language": "python",
   "name": "python3"
  },
  "language_info": {
   "codemirror_mode": {
    "name": "ipython",
    "version": 3
   },
   "file_extension": ".py",
   "mimetype": "text/x-python",
   "name": "python",
   "nbconvert_exporter": "python",
   "pygments_lexer": "ipython3",
   "version": "3.6.4"
  }
 },
 "nbformat": 4,
 "nbformat_minor": 2
}
